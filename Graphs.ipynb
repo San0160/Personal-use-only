{
 "cells": [
  {
   "cell_type": "code",
   "execution_count": 1,
   "id": "6af0f540",
   "metadata": {},
   "outputs": [],
   "source": [
    "import numpy as np\n",
    "import pandas as pd\n",
    "import matplotlib.pyplot as plt\n",
    "import seaborn as sns"
   ]
  },
  {
   "cell_type": "markdown",
   "id": "b438ffde",
   "metadata": {},
   "source": [
    "# Cooler Isnull"
   ]
  },
  {
   "cell_type": "code",
   "execution_count": null,
   "id": "e0be6642",
   "metadata": {},
   "outputs": [],
   "source": [
    "sns.heatmap(df.isnull())"
   ]
  },
  {
   "cell_type": "markdown",
   "id": "822ae7f3",
   "metadata": {},
   "source": [
    "# Encoding"
   ]
  },
  {
   "cell_type": "code",
   "execution_count": 3,
   "id": "b5279839",
   "metadata": {},
   "outputs": [],
   "source": [
    "# This is a way to convert multiple categorical columns to num\n",
    "# DF.info() displays the type of data in the column\n",
    "# when type is object use this\n",
    "\n",
    "from sklearn.preprocessing import LabelEncoder\n",
    "\n",
    "le =LabelEncoder()\n",
    "for i in df.select_dtypes('object').columns :\n",
    "  df[i]=le.fit_transform(df[i])"
   ]
  },
  {
   "cell_type": "markdown",
   "id": "e916fc0a",
   "metadata": {},
   "source": [
    "# Sacling\n",
    "## 1) MinMax"
   ]
  },
  {
   "cell_type": "code",
   "execution_count": null,
   "id": "e866f053",
   "metadata": {},
   "outputs": [],
   "source": [
    "from sklearn.preprocessing import MinMaxScaler\n",
    "\n",
    "# make sure to drop y form table\n",
    "# df_x = df.drop(['price'], axis = 1)\n",
    "\n",
    "mm = MinMaxScaler()\n",
    "df_MinMax = pd.DataFrame(mm.fit_transform(df), columns=df.columns)"
   ]
  },
  {
   "cell_type": "code",
   "execution_count": null,
   "id": "4b4832a6",
   "metadata": {},
   "outputs": [],
   "source": [
    "plt.figure(figsize=(14, 7))\n",
    "plt.subplot(1, 2, 1)\n",
    "plt.title(\"PDF Before Scaling\", fontsize=18)\n",
    "sns.kdeplot(data=df['Purchase'], color=\"blue\")\n",
    "plt.subplot(1, 2, 2)\n",
    "plt.title(\"PDF After MinMax\", fontsize=18)\n",
    "sns.kdeplot(data=df_MinMax['Purchase'], color=\"red\")\n",
    "plt.tight_layout()\n",
    "plt.show()\n",
    "\n",
    "\n",
    "# can also be used in standard scaler"
   ]
  },
  {
   "cell_type": "code",
   "execution_count": null,
   "id": "54ff826e",
   "metadata": {},
   "outputs": [],
   "source": []
  },
  {
   "cell_type": "markdown",
   "id": "b2384342",
   "metadata": {},
   "source": [
    "# ***************************************************************************"
   ]
  },
  {
   "cell_type": "markdown",
   "id": "1c44621e",
   "metadata": {},
   "source": [
    "# Box plot features , to find out outliers"
   ]
  },
  {
   "cell_type": "code",
   "execution_count": 1,
   "id": "0f2fe987",
   "metadata": {},
   "outputs": [
    {
     "ename": "NameError",
     "evalue": "name 'plt' is not defined",
     "output_type": "error",
     "traceback": [
      "\u001b[1;31m---------------------------------------------------------------------------\u001b[0m",
      "\u001b[1;31mNameError\u001b[0m                                 Traceback (most recent call last)",
      "Cell \u001b[1;32mIn[1], line 5\u001b[0m\n\u001b[0;32m      3\u001b[0m \u001b[38;5;66;03m# Generate a boxplot for each column in the list\u001b[39;00m\n\u001b[0;32m      4\u001b[0m \u001b[38;5;28;01mfor\u001b[39;00m col \u001b[38;5;129;01min\u001b[39;00m num_cols:\n\u001b[1;32m----> 5\u001b[0m     plt\u001b[38;5;241m.\u001b[39mfigure(figsize\u001b[38;5;241m=\u001b[39m(\u001b[38;5;241m8\u001b[39m, \u001b[38;5;241m6\u001b[39m))\n\u001b[0;32m      6\u001b[0m     sns\u001b[38;5;241m.\u001b[39mboxplot(df[col])\n\u001b[0;32m      7\u001b[0m     plt\u001b[38;5;241m.\u001b[39mtitle(\u001b[38;5;124mf\u001b[39m\u001b[38;5;124m'\u001b[39m\u001b[38;5;124mBoxplot of \u001b[39m\u001b[38;5;132;01m{\u001b[39;00mcol\u001b[38;5;132;01m}\u001b[39;00m\u001b[38;5;124m'\u001b[39m)\n",
      "\u001b[1;31mNameError\u001b[0m: name 'plt' is not defined"
     ]
    }
   ],
   "source": [
    "num_cols = ['mpg', 'cylinders', 'displacement', 'horsepower', 'weight', 'acceleration', 'model_year']\n",
    "\n",
    "# Generate a boxplot for each column in the list\n",
    "for col in num_cols:\n",
    "    plt.figure(figsize=(8, 6))\n",
    "    sns.boxplot(df[col])\n",
    "    plt.title(f'Boxplot of {col}')\n",
    "    plt.show()"
   ]
  },
  {
   "cell_type": "markdown",
   "id": "a4aed90f",
   "metadata": {},
   "source": [
    "## \"Diamond\" outside the boxplot is outliers, 2-3 are fine.\n",
    "## If more then use this"
   ]
  },
  {
   "cell_type": "code",
   "execution_count": null,
   "id": "a4f2d829",
   "metadata": {},
   "outputs": [],
   "source": [
    "# handle outliers in 'horsepower'\n",
    "# first, calculate the IQR of 'horsepower'\n",
    "Q1_hp = df['horsepower'].quantile(0.25)\n",
    "Q3_hp = df['horsepower'].quantile(0.75)\n",
    "\n",
    "IQR_hp = Q3_hp - Q1_hp\n",
    "\n",
    "# define the upper and lower bounds for outliers\n",
    "lower_bound_hp = Q1_hp - 1.5 * IQR_hp\n",
    "upper_bound_hp = Q3_hp + 1.5 * IQR_hp\n",
    "\n",
    "# cap outliers\n",
    "df['horsepower'] = df['horsepower'].clip(lower=lower_bound_hp, upper=upper_bound_hp)"
   ]
  },
  {
   "cell_type": "markdown",
   "id": "e62811ae",
   "metadata": {},
   "source": [
    "## resolve outliers"
   ]
  },
  {
   "cell_type": "markdown",
   "id": "49d48ae7",
   "metadata": {},
   "source": [
    "# ********************************************************************************"
   ]
  },
  {
   "cell_type": "markdown",
   "id": "2cf1f084",
   "metadata": {},
   "source": [
    "# Histogram "
   ]
  },
  {
   "cell_type": "code",
   "execution_count": null,
   "id": "389b2eb0",
   "metadata": {},
   "outputs": [],
   "source": [
    "# generate histograms for numerical variables\n",
    "for col in num_cols:\n",
    "    plt.figure(figsize=(8, 6))\n",
    "    sns.histplot(df[col], kde=True)\n",
    "    plt.title(f'Histogram of {col}')\n",
    "    plt.show()"
   ]
  },
  {
   "cell_type": "markdown",
   "id": "360d815b",
   "metadata": {},
   "source": [
    "# Scatter plot, Y vs all X"
   ]
  },
  {
   "cell_type": "code",
   "execution_count": null,
   "id": "1991849f",
   "metadata": {},
   "outputs": [],
   "source": [
    "mpg_cols = ['cylinders', 'displacement', 'weight', 'acceleration']\n",
    "for mpg_col in mpg_cols:\n",
    "    plt.figure(figsize=(8, 6))\n",
    "    sns.scatterplot(data=df, x='mpg', y=f'{mpg_col}')\n",
    "    plt.title(f\"mpg vs {mpg_col}\")\n",
    "    plt.show()"
   ]
  },
  {
   "cell_type": "markdown",
   "id": "bbb40776",
   "metadata": {},
   "source": [
    "# sactter for specific X and y"
   ]
  },
  {
   "cell_type": "code",
   "execution_count": null,
   "id": "2585f6b5",
   "metadata": {},
   "outputs": [],
   "source": [
    "plt.scatter(data1['duration'], data1['price'], s=2, color= '#ed8e51')\n",
    "\n",
    "plt.title(\"Flight Duration vs Ticket Price\")\n",
    "plt.xlabel(\"Duration of Flight\")\n",
    "plt.ylabel(\"Ticket Price\")\n",
    "plt.show()"
   ]
  },
  {
   "cell_type": "markdown",
   "id": "c86f631e",
   "metadata": {},
   "source": [
    "# Used when there is multiple categorical data in a column\n",
    "### Example number of passangers per airline"
   ]
  },
  {
   "cell_type": "code",
   "execution_count": null,
   "id": "33401cd9",
   "metadata": {},
   "outputs": [],
   "source": [
    "# counts all unique categorical values in column airline and plots them\n",
    "\n",
    "airline_counts = data1['airline'].value_counts().sort_values(ascending=True)\n",
    "sns.set_style(\"whitegrid\")\n",
    "colors = sns.color_palette(\"Set2\")\n",
    "\n",
    "# Create horizontal bar chart of airline counts\n",
    "airline_counts.plot(kind='barh', color=colors)\n",
    "plt.title(\"Customer Count by Airline\")\n",
    "plt.xlabel(\"Count\")\n",
    "plt.ylabel(\"Airline\")\n",
    "plt.show()"
   ]
  },
  {
   "cell_type": "markdown",
   "id": "1891bb63",
   "metadata": {},
   "source": [
    "# Average ticket price for each airline\n",
    "## Bar plot between airline names and * average of prices"
   ]
  },
  {
   "cell_type": "code",
   "execution_count": null,
   "id": "d9447c09",
   "metadata": {},
   "outputs": [],
   "source": [
    "# both are independent features\n",
    "# the same can be used to find average ticket price for each class\n",
    "\n",
    "avg_price = data1.groupby('airline')['price'].mean().reset_index()\n",
    "avg_price = avg_price.sort_values(by='price',ascending=False)\n",
    "sns.barplot(x='airline', y='price', data=avg_price)\n",
    "\n",
    "plt.xlabel('Airline')\n",
    "plt.ylabel('Average Price')\n",
    "plt.show()"
   ]
  },
  {
   "cell_type": "markdown",
   "id": "09ab0f30",
   "metadata": {},
   "source": [
    "# Display the cateogerical values of single column in a pie chart"
   ]
  },
  {
   "cell_type": "code",
   "execution_count": null,
   "id": "c3f8cd5d",
   "metadata": {},
   "outputs": [],
   "source": [
    "class_counts = data1['class'].value_counts()\n",
    "colors = sns.color_palette(\"Set2\")\n",
    "class_counts.plot(kind='pie', colors=colors)\n",
    "plt.title(\"Number of fliers in Business Vs Economy Class:\")\n",
    "plt.ylabel('')\n",
    "plt.show()"
   ]
  },
  {
   "cell_type": "markdown",
   "id": "f46b5e59",
   "metadata": {},
   "source": []
  },
  {
   "cell_type": "markdown",
   "id": "154a10f0",
   "metadata": {},
   "source": [
    "# Corr heatmap"
   ]
  },
  {
   "cell_type": "code",
   "execution_count": 2,
   "id": "3a9606ef",
   "metadata": {},
   "outputs": [
    {
     "ename": "NameError",
     "evalue": "name 'df' is not defined",
     "output_type": "error",
     "traceback": [
      "\u001b[1;31m---------------------------------------------------------------------------\u001b[0m",
      "\u001b[1;31mNameError\u001b[0m                                 Traceback (most recent call last)",
      "Cell \u001b[1;32mIn[2], line 1\u001b[0m\n\u001b[1;32m----> 1\u001b[0m corr_matrix \u001b[38;5;241m=\u001b[39m df[num_cols]\u001b[38;5;241m.\u001b[39mcorr()\n\u001b[0;32m      3\u001b[0m \u001b[38;5;66;03m# Display the correlation matrix\u001b[39;00m\n\u001b[0;32m      4\u001b[0m sns\u001b[38;5;241m.\u001b[39mheatmap(corr_matrix, annot\u001b[38;5;241m=\u001b[39m\u001b[38;5;28;01mTrue\u001b[39;00m, cmap\u001b[38;5;241m=\u001b[39m\u001b[38;5;124m'\u001b[39m\u001b[38;5;124mcoolwarm\u001b[39m\u001b[38;5;124m'\u001b[39m)\n",
      "\u001b[1;31mNameError\u001b[0m: name 'df' is not defined"
     ]
    }
   ],
   "source": [
    "corr_matrix = df[num_cols].corr()\n",
    "\n",
    "# Display the correlation matrix\n",
    "sns.heatmap(corr_matrix, annot=True, cmap='coolwarm')\n",
    "plt.title('Correlation Matrix of Numerical Variables')\n",
    "plt.show()"
   ]
  },
  {
   "cell_type": "markdown",
   "id": "071ef2f8",
   "metadata": {},
   "source": [
    "# *************************************************************************************"
   ]
  },
  {
   "cell_type": "markdown",
   "id": "f0b5cdb6",
   "metadata": {},
   "source": [
    "## Classification report"
   ]
  },
  {
   "cell_type": "code",
   "execution_count": null,
   "id": "20cc403c",
   "metadata": {},
   "outputs": [],
   "source": [
    "from sklearn.metrics import confusion_matrix, classification_report\n",
    "\n",
    "print(\"Confusion matrix\")\n",
    "print(confusion_matrix(pred_test, y_test))\n",
    "print(\" \")\n",
    "print(\"Classification Report\")\n",
    "print(classification_report(pred_test, y_test))"
   ]
  },
  {
   "cell_type": "markdown",
   "id": "65c801c0",
   "metadata": {},
   "source": [
    "## Regression Report"
   ]
  },
  {
   "cell_type": "code",
   "execution_count": null,
   "id": "91a5c47d",
   "metadata": {},
   "outputs": [],
   "source": [
    "from sklearn.metrics import  mean_squared_error, r2_score, mean_absolute_error, mean_absolute_percentage_error\n",
    "\n",
    "print(\"Evaulation of train data\")\n",
    "\n",
    "Mean_error = mean_squared_error(pred_train,y_train)\n",
    "print( \"mean=\" , round(Mean_error,3))\n",
    "\n",
    "import math\n",
    "RMSE = math.sqrt(Mean_error)\n",
    "print( \"RMSE= \", round(RMSE,3))\n",
    "\n",
    "MAE = mean_absolute_error(y_train,pred_train)\n",
    "print(\"Mean absolute error=\", round(MAE,4))\n",
    "\n",
    "MAPE = mean_absolute_percentage_error(y_train,pred_train)\n",
    "print(\"Mean Absolute Percentage Error=\",round(MAPE,4))\n",
    "\n",
    "R_square_train = r2_score(y_train,pred_train)\n",
    "print( \"R_squared=\" , round(R_square_train,3))"
   ]
  },
  {
   "cell_type": "markdown",
   "id": "4cdc7f97",
   "metadata": {},
   "source": [
    "# Actual vs predict comp"
   ]
  },
  {
   "cell_type": "code",
   "execution_count": null,
   "id": "4d7d6f4e",
   "metadata": {},
   "outputs": [],
   "source": [
    "pred_df = pd.DataFrame({\"Prediction\": y_pred, \"Actual\": y_test}).reset_index(drop=True)"
   ]
  },
  {
   "cell_type": "code",
   "execution_count": null,
   "id": "171101be",
   "metadata": {},
   "outputs": [],
   "source": [
    "plt.style.use(\"ggplot\")\n",
    "plt.figure(figsize = (15,6))\n",
    "\n",
    "plt.plot(pred_df[0:100]['Actual'], color = \"b\", label = \"Real Value\")\n",
    "plt.plot(pred_df[0:100][\"Prediction\"], color = \"r\", label = \"Predicted Value\")\n",
    "plt.legend()\n",
    "plt.title(\"Real vs Predicted Values\", fontsize = 30)\n",
    "plt.show()"
   ]
  },
  {
   "cell_type": "markdown",
   "id": "f7f4365a",
   "metadata": {},
   "source": [
    "# ******************************************************************************************"
   ]
  },
  {
   "cell_type": "markdown",
   "id": "fdf43de5",
   "metadata": {},
   "source": [
    "# Unsupervised"
   ]
  },
  {
   "cell_type": "code",
   "execution_count": null,
   "id": "f0117a7a",
   "metadata": {},
   "outputs": [],
   "source": []
  }
 ],
 "metadata": {
  "kernelspec": {
   "display_name": "Python 3 (ipykernel)",
   "language": "python",
   "name": "python3"
  },
  "language_info": {
   "codemirror_mode": {
    "name": "ipython",
    "version": 3
   },
   "file_extension": ".py",
   "mimetype": "text/x-python",
   "name": "python",
   "nbconvert_exporter": "python",
   "pygments_lexer": "ipython3",
   "version": "3.11.5"
  }
 },
 "nbformat": 4,
 "nbformat_minor": 5
}
